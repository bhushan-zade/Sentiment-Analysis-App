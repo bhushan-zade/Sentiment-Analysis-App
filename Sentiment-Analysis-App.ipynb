{
 "cells": [
  {
   "cell_type": "code",
   "execution_count": 9,
   "id": "ae017395-c4b4-4d0a-9e3d-104581de9a5e",
   "metadata": {},
   "outputs": [],
   "source": [
    "import nltk\n",
    "from nltk.sentiment import SentimentIntensityAnalyzer\n",
    "import pandas as pd"
   ]
  },
  {
   "cell_type": "markdown",
   "id": "6d28a74b-0931-4eb8-a708-202ee46432a2",
   "metadata": {},
   "source": [
    "## Download VADER lexicon for sentiment analysis"
   ]
  },
  {
   "cell_type": "code",
   "execution_count": 10,
   "id": "0f56f222-41a8-4664-afb2-cbe1e87a3ef8",
   "metadata": {},
   "outputs": [
    {
     "name": "stderr",
     "output_type": "stream",
     "text": [
      "[nltk_data] Downloading package vader_lexicon to\n",
      "[nltk_data]     C:\\Users\\Bhushan\\AppData\\Roaming\\nltk_data...\n",
      "[nltk_data]   Package vader_lexicon is already up-to-date!\n"
     ]
    },
    {
     "data": {
      "text/plain": [
       "True"
      ]
     },
     "execution_count": 10,
     "metadata": {},
     "output_type": "execute_result"
    }
   ],
   "source": [
    "# Download VADER lexicon for sentiment analysis\n",
    "nltk.download('vader_lexicon')\n"
   ]
  },
  {
   "cell_type": "markdown",
   "id": "430971c6-630c-4a61-ab16-782d35707e16",
   "metadata": {},
   "source": [
    "## Initialize Sentiment Intensity Analyzer"
   ]
  },
  {
   "cell_type": "code",
   "execution_count": 11,
   "id": "5180bb06-8a67-4679-8019-faf9588b0dd5",
   "metadata": {},
   "outputs": [],
   "source": [
    "# Initialize Sentiment Intensity Analyzer\n",
    "sia = SentimentIntensityAnalyzer()"
   ]
  },
  {
   "cell_type": "markdown",
   "id": "04061a64-1cb6-473f-a07d-8966bd3c645e",
   "metadata": {},
   "source": [
    "## Function to analyze sentiment of each word and the overall sentence"
   ]
  },
  {
   "cell_type": "code",
   "execution_count": 14,
   "id": "c63f1e9d-cb3b-4c65-83f7-a015659eb3a2",
   "metadata": {},
   "outputs": [],
   "source": [
    "# Function to analyze sentiment of each word and the overall sentence\n",
    "def analyze_sentiment(text):\n",
    "    words = text.split()\n",
    "    \n",
    "    # Calculate overall sentiment for the sentence\n",
    "    overall_sentiment = sia.polarity_scores(text)['compound']\n",
    "    if overall_sentiment > 0:\n",
    "        overall_sentiment_result = 'Positive'\n",
    "    elif overall_sentiment < 0:\n",
    "        overall_sentiment_result = 'Negative'\n",
    "    else:\n",
    "        overall_sentiment_result = 'Neutral'\n",
    "    \n",
    "    # Initialize lists to hold words by sentiment category\n",
    "    positive_words = []\n",
    "    neutral_words = []\n",
    "    negative_words = []\n",
    "    \n",
    "    for word in words:\n",
    "        sentiment = sia.polarity_scores(word)['compound']\n",
    "        if sentiment > 0:\n",
    "            positive_words.append(word)\n",
    "        elif sentiment < 0:\n",
    "            negative_words.append(word)\n",
    "        else:\n",
    "            neutral_words.append(word)\n",
    "\n",
    "    return overall_sentiment_result, positive_words, neutral_words, negative_words\n"
   ]
  },
  {
   "cell_type": "markdown",
   "id": "05abb2f4-561c-4eb1-89a9-bce3b7222e8a",
   "metadata": {},
   "source": [
    "## Take user input in Jupyter Notebook"
   ]
  },
  {
   "cell_type": "code",
   "execution_count": 15,
   "id": "203132dc-c081-4f0a-97b2-b79d4c8e6558",
   "metadata": {},
   "outputs": [
    {
     "name": "stdin",
     "output_type": "stream",
     "text": [
      "Enter a sentence for sentiment analysis:  \"Streamlit is an excellent tool but can be a little confusing.\n"
     ]
    }
   ],
   "source": [
    "# Take user input in Jupyter Notebook\n",
    "text = input(\"Enter a sentence for sentiment analysis: \")"
   ]
  },
  {
   "cell_type": "markdown",
   "id": "7923a96d-02cd-48fb-a4e2-217873f99aed",
   "metadata": {},
   "source": [
    "## Analyze the input text"
   ]
  },
  {
   "cell_type": "code",
   "execution_count": 16,
   "id": "6bfcaac1-973c-43c3-aa53-4812e0ce3a8d",
   "metadata": {},
   "outputs": [
    {
     "name": "stdout",
     "output_type": "stream",
     "text": [
      "\n",
      "Overall Sentiment: Positive\n",
      "\n",
      "Word-wise Result:\n",
      "😊 Positive: excellent\n",
      "😐 Neutral: \"Streamlit, is, an, tool, but, can, be, a, little\n",
      "😢 Negative: confusing.\n"
     ]
    }
   ],
   "source": [
    "# Analyze the input text\n",
    "if text:\n",
    "    overall_sentiment, positive_words, neutral_words, negative_words = analyze_sentiment(text)\n",
    "    \n",
    "    # Display results\n",
    "    print(f\"\\nOverall Sentiment: {overall_sentiment}\\n\")\n",
    "    print(\"Word-wise Result:\")\n",
    "    \n",
    "    print(f\"😊 Positive: {', '.join(positive_words) if positive_words else 'None'}\")\n",
    "    print(f\"😐 Neutral: {', '.join(neutral_words) if neutral_words else 'None'}\")\n",
    "    print(f\"😢 Negative: {', '.join(negative_words) if negative_words else 'None'}\")\n",
    "else:\n",
    "    print(\"Please enter some text to analyze.\")"
   ]
  },
  {
   "cell_type": "code",
   "execution_count": null,
   "id": "0f96824a-a1c5-45a5-92b5-8d42266fc0d7",
   "metadata": {},
   "outputs": [],
   "source": []
  }
 ],
 "metadata": {
  "kernelspec": {
   "display_name": "Python 3 (ipykernel)",
   "language": "python",
   "name": "python3"
  },
  "language_info": {
   "codemirror_mode": {
    "name": "ipython",
    "version": 3
   },
   "file_extension": ".py",
   "mimetype": "text/x-python",
   "name": "python",
   "nbconvert_exporter": "python",
   "pygments_lexer": "ipython3",
   "version": "3.10.11"
  }
 },
 "nbformat": 4,
 "nbformat_minor": 5
}
