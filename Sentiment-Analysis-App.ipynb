{
 "cells": [
  {
   "cell_type": "code",
   "execution_count": 1,
   "id": "ae017395-c4b4-4d0a-9e3d-104581de9a5e",
   "metadata": {},
   "outputs": [],
   "source": [
    "import nltk\n",
    "from nltk.sentiment import SentimentIntensityAnalyzer\n",
    "import pandas as pd"
   ]
  },
  {
   "cell_type": "markdown",
   "id": "6d28a74b-0931-4eb8-a708-202ee46432a2",
   "metadata": {},
   "source": [
    "## Download VADER lexicon for sentiment analysis"
   ]
  },
  {
   "cell_type": "code",
   "execution_count": 2,
   "id": "0f56f222-41a8-4664-afb2-cbe1e87a3ef8",
   "metadata": {},
   "outputs": [
    {
     "name": "stderr",
     "output_type": "stream",
     "text": [
      "[nltk_data] Downloading package vader_lexicon to\n",
      "[nltk_data]     C:\\Users\\Bhushan\\AppData\\Roaming\\nltk_data...\n"
     ]
    },
    {
     "data": {
      "text/plain": [
       "True"
      ]
     },
     "execution_count": 2,
     "metadata": {},
     "output_type": "execute_result"
    }
   ],
   "source": [
    "# Download VADER lexicon for sentiment analysis\n",
    "nltk.download('vader_lexicon')\n"
   ]
  },
  {
   "cell_type": "code",
   "execution_count": null,
   "id": "09c5048c-52f5-405a-9884-a3dfe55b4b7c",
   "metadata": {},
   "outputs": [],
   "source": []
  },
  {
   "cell_type": "code",
   "execution_count": 3,
   "id": "5180bb06-8a67-4679-8019-faf9588b0dd5",
   "metadata": {},
   "outputs": [],
   "source": [
    "# Initialize Sentiment Intensity Analyzer\n",
    "sia = SentimentIntensityAnalyzer()"
   ]
  },
  {
   "cell_type": "code",
   "execution_count": 4,
   "id": "c63f1e9d-cb3b-4c65-83f7-a015659eb3a2",
   "metadata": {},
   "outputs": [],
   "source": [
    "# Function to analyze sentiment of each word\n",
    "def analyze_sentiment(text):\n",
    "    words = text.split()\n",
    "    results = {'Word': [], 'Sentiment': []}\n",
    "    \n",
    "    for word in words:\n",
    "        sentiment = sia.polarity_scores(word)['compound']\n",
    "        if sentiment > 0:\n",
    "            results['Word'].append(word)\n",
    "            results['Sentiment'].append('Positive')\n",
    "        elif sentiment < 0:\n",
    "            results['Word'].append(word)\n",
    "            results['Sentiment'].append('Negative')\n",
    "        else:\n",
    "            results['Word'].append(word)\n",
    "            results['Sentiment'].append('Neutral')\n",
    "    \n",
    "    return pd.DataFrame(results)"
   ]
  },
  {
   "cell_type": "code",
   "execution_count": 5,
   "id": "2ec982b4-c9ab-4a8d-a16e-2c8ed18dc7d7",
   "metadata": {},
   "outputs": [
    {
     "name": "stdout",
     "output_type": "stream",
     "text": [
      "          Word Sentiment\n",
      "0    Streamlit   Neutral\n",
      "1           is   Neutral\n",
      "2           an   Neutral\n",
      "3    excellent  Positive\n",
      "4         tool   Neutral\n",
      "5          but   Neutral\n",
      "6          can   Neutral\n",
      "7           be   Neutral\n",
      "8            a   Neutral\n",
      "9       little   Neutral\n",
      "10  confusing.  Negative\n"
     ]
    }
   ],
   "source": [
    "# Test the function\n",
    "text = \"Streamlit is an excellent tool but can be a little confusing.\"\n",
    "sentiment_df = analyze_sentiment(text)\n",
    "print(sentiment_df)"
   ]
  },
  {
   "cell_type": "code",
   "execution_count": null,
   "id": "203132dc-c081-4f0a-97b2-b79d4c8e6558",
   "metadata": {},
   "outputs": [],
   "source": []
  }
 ],
 "metadata": {
  "kernelspec": {
   "display_name": "Python 3 (ipykernel)",
   "language": "python",
   "name": "python3"
  },
  "language_info": {
   "codemirror_mode": {
    "name": "ipython",
    "version": 3
   },
   "file_extension": ".py",
   "mimetype": "text/x-python",
   "name": "python",
   "nbconvert_exporter": "python",
   "pygments_lexer": "ipython3",
   "version": "3.10.11"
  }
 },
 "nbformat": 4,
 "nbformat_minor": 5
}
